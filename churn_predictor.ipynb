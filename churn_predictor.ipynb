{
 "cells": [
  {
   "cell_type": "code",
   "execution_count": 1,
   "metadata": {
    "collapsed": false
   },
   "outputs": [],
   "source": [
    "import graphlab as gl\n",
    "import datetime\n",
    "from dateutil import parser as datetime_parser"
   ]
  },
  {
   "cell_type": "markdown",
   "metadata": {},
   "source": [
    "# Load Data"
   ]
  },
  {
   "cell_type": "code",
   "execution_count": 2,
   "metadata": {
    "collapsed": false
   },
   "outputs": [],
   "source": [
    "# Table of product purchases\n",
    "purchases = gl.SFrame.read_csv('dataset/online_retail.csv')"
   ]
  },
  {
   "cell_type": "markdown",
   "metadata": {},
   "source": [
    "# Prepare Data\n",
    "\n",
    "Convert the datetime strings to Python datetimes and create a GraphLab Create TimeSeries\n",
    "from the `InvoiceDate` column."
   ]
  },
  {
   "cell_type": "code",
   "execution_count": 3,
   "metadata": {
    "collapsed": true
   },
   "outputs": [],
   "source": [
    "# Convert InvoiceDate strings (e.g. \"12/1/10 8:26\") to datetimes\n",
    "purchases['InvoiceDate'] = purchases['InvoiceDate'].apply(datetime_parser.parse)\n",
    "\n",
    "# Create a TimeSeries\n",
    "timeseries = gl.TimeSeries(purchases, 'InvoiceDate')"
   ]
  },
  {
   "cell_type": "markdown",
   "metadata": {},
   "source": [
    "# Train Churn Predictor Model\n",
    "\n",
    "A churn forecast requires a time boundary and a churn period.\n",
    "Activity before the boundary is used to train the model.\n",
    "After the boundary, activity (or lack of activity)\n",
    "during the churn period is used to define whether the\n",
    "user churned."
   ]
  },
  {
   "cell_type": "code",
   "execution_count": 4,
   "metadata": {
    "collapsed": false
   },
   "outputs": [],
   "source": [
    "# Split the data into train and validation\n",
    "train, valid = gl.churn_predictor.random_split(timeseries, user_id='CustomerID', fraction=0.8, seed = 1)\n",
    "\n",
    "# Train the model using data before August\n",
    "churn_boundary_oct = datetime.datetime(year = 2011, month = 8, day = 1)\n",
    "# Define churn as \"inactive for 30 days after August 1st 2011\"\n",
    "churn_period = datetime.timedelta(days = 30)\n",
    "\n",
    "model = gl.churn_predictor.create(train, user_id='CustomerID',\n",
    "                                  features = ['Quantity'],\n",
    "                                  churn_period = churn_period,\n",
    "                                  time_boundaries = [churn_boundary_oct])"
   ]
  },
  {
   "cell_type": "markdown",
   "metadata": {},
   "source": [
    "# Explore and Evaluate the Model"
   ]
  },
  {
   "cell_type": "code",
   "execution_count": 5,
   "metadata": {
    "collapsed": false,
    "scrolled": false
   },
   "outputs": [],
   "source": [
    "# Interactively explore churn predictions\n",
    "view = model.views.overview(exploration_set=timeseries,\n",
    "                            validation_set=valid,\n",
    "                            exploration_time=churn_boundary_oct,\n",
    "                            validation_time=churn_boundary_oct)\n",
    "view.show()"
   ]
  },
  {
   "cell_type": "code",
   "execution_count": null,
   "metadata": {},
   "outputs": [],
   "source": [
    ""
   ]
  },
  {
   "cell_type": "code",
   "execution_count": null,
   "metadata": {},
   "outputs": [],
   "source": [
    ""
   ]
  }
 ],
 "metadata": {
  "kernelspec": {
   "display_name": "Python 2",
   "language": "python",
   "name": "python2"
  },
  "language_info": {
   "codemirror_mode": {
    "name": "ipython",
    "version": 2.0
   },
   "file_extension": ".py",
   "mimetype": "text/x-python",
   "name": "python",
   "nbconvert_exporter": "python",
   "pygments_lexer": "ipython2",
   "version": "2.7.11"
  }
 },
 "nbformat": 4,
 "nbformat_minor": 0
}